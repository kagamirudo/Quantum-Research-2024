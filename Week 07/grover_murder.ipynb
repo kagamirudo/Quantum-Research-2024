{
 "cells": [
  {
   "cell_type": "code",
   "execution_count": 7,
   "metadata": {},
   "outputs": [],
   "source": [
    "from qiskit import *\n",
    "import matplotlib.pyplot as plt\n",
    "from qiskit_aer import Aer\n",
    "from IPython.display import display, Image\n",
    "from qiskit.visualization import plot_histogram"
   ]
  },
  {
   "cell_type": "code",
   "execution_count": 8,
   "metadata": {},
   "outputs": [],
   "source": [
    "def murder(n):\n",
    "    q = range(n)\n",
    "    logic = QuantumRegister(n)\n",
    "    logic = QuantumCircuit(logic, name=\"murder\")\n",
    "    # q0 is Maid\n",
    "    # q1 is Butler\n",
    "    # q2 is Gardener\n",
    "    # q3 is the result\n",
    "    logic.x(1)\n",
    "    logic.ccx(0, 1, 4)\n",
    "    logic.ccx(0, 2, 5)\n",
    "    logic.x([4, 5])\n",
    "    logic.ccx(4, 5, 3)\n",
    "    # return q4, q5\n",
    "    logic.x([4, 5])\n",
    "    logic.ccx(0, 2, 5)\n",
    "    logic.ccx(0, 1, 4)\n",
    "    logic.barrier(q)\n",
    "    logic.x(0)\n",
    "    logic.ccx(0, 2, 6)\n",
    "    logic.x(2)\n",
    "    logic.mcx([0, 1, 2], 4)\n",
    "    logic.x(1)\n",
    "    logic.mcx([0, 1, 2], 5)\n",
    "    logic.barrier(q)\n",
    "    logic.x([4, 5, 6])\n",
    "    logic.ccx(4, 5, 7)\n",
    "    logic.ccx(7, 6, 3)\n",
    "    # return q4, q5, q6\n",
    "    logic.ccx(4, 5, 7)\n",
    "    logic.x(5)\n",
    "    logic.mcx([0, 1, 2], 5)\n",
    "    logic.x(1)\n",
    "    logic.x(4)\n",
    "    logic.mcx([0, 1, 2], 4)\n",
    "    logic.x(2)\n",
    "    logic.x(6)\n",
    "    logic.ccx(0, 2, 6)\n",
    "    logic.x(0)\n",
    "    # left over q1 at the beginning\n",
    "    logic.barrier(q)\n",
    "    logic.x(1)\n",
    "\n",
    "    return logic.to_instruction()"
   ]
  },
  {
   "cell_type": "code",
   "execution_count": 9,
   "metadata": {},
   "outputs": [],
   "source": [
    "def diffuser(n):\n",
    "    logic = QuantumRegister(n)\n",
    "    logic = QuantumCircuit(logic, name=\"diffuser\")\n",
    "    q = range(n)\n",
    "    # Step 1: Apply Hadamard and X to all qubits\n",
    "    logic.h(q)\n",
    "    logic.x(q)\n",
    "    logic.barrier(q)\n",
    "    # Step 3: Apply multi-controlled Z gate\n",
    "    # This is equivalent to a controlled-Z gate with n-1 controls\n",
    "    logic.h(n - 1)\n",
    "    logic.mcx(list(range(n - 1)), n - 1)\n",
    "    logic.h(n - 1)\n",
    "    logic.barrier(q)\n",
    "    # Step 4: Apply X and H to all qubits again\n",
    "    logic.x(q)\n",
    "    logic.h(q)\n",
    "    return logic.to_instruction()"
   ]
  },
  {
   "cell_type": "code",
   "execution_count": 10,
   "metadata": {},
   "outputs": [],
   "source": [
    "def solver(n_qubit=8, output=3, iter=1, out_res=False):\n",
    "    q = range(n_qubit)\n",
    "    o = range(output)\n",
    "    expect_out = output + 1 if out_res else output\n",
    "    qc = QuantumCircuit(n_qubit, expect_out)\n",
    "    qc.h(o)\n",
    "    qc.x(output)\n",
    "    qc.h(output)\n",
    "    qc.barrier(q)\n",
    "    for _ in range(iter):\n",
    "        qc.append(murder(n_qubit), q)\n",
    "        qc.barrier(q)\n",
    "        qc.append(diffuser(output), o)\n",
    "    qc.barrier(q)\n",
    "    if out_res:\n",
    "        qc.measure(range(output + 1), range(output + 1))\n",
    "    else:\n",
    "        qc.measure(o, o)\n",
    "    return qc"
   ]
  },
  {
   "cell_type": "code",
   "execution_count": 11,
   "metadata": {},
   "outputs": [],
   "source": [
    "def analyse(qc):\n",
    "    qc = qc.decompose()\n",
    "    backend_sim = Aer.get_backend(\"qasm_simulator\")\n",
    "    job_sim = backend_sim.run(qc, shots=2048)\n",
    "    counts = job_sim.result().get_counts()\n",
    "    total_counts = sum(counts.values())\n",
    "    probs = {key: value / total_counts for key, value in counts.items()}\n",
    "    fig = plot_histogram(probs, title=\"Quantum\")\n",
    "    fig.savefig(\"grover_murder_chart\")\n",
    "    # fig.show()\n",
    "    filtered_counts = {\n",
    "        key: value\n",
    "        for key, value in counts.items()\n",
    "        if 1000 < int(key) < 1111\n",
    "        and int(key) not in {1100, 1010, 1001}\n",
    "        and int(key) not in {1, 100, 10, 0, 111}\n",
    "    }\n",
    "    for key, value in filtered_counts.items():\n",
    "        print(f\"{key}: {value}\")"
   ]
  },
  {
   "cell_type": "code",
   "execution_count": 34,
   "metadata": {},
   "outputs": [
    {
     "data": {
      "image/png": "[encoded data removed]",
      "text/plain": [
       "<IPython.core.display.Image object>"
      ]
     },
     "metadata": {
      "image/png": {
       "width": 500
      }
     },
     "output_type": "display_data"
    }
   ],
   "source": [
    "qc = solver(out_res=False, iter=1)\n",
    "qc.draw(\"mpl\", scale=0.5)\n",
    "analyse(qc)\n",
    "img = Image(\"grover_murder_chart.png\", width=500)\n",
    "display(img)"
   ]
  },
  {
   "cell_type": "code",
   "execution_count": null,
   "metadata": {},
   "outputs": [],
   "source": []
  }
 ],
 "metadata": {
  "kernelspec": {
   "display_name": "base",
   "language": "python",
   "name": "python3"
  },
  "language_info": {
   "codemirror_mode": {
    "name": "ipython",
    "version": 3
   },
   "file_extension": ".py",
   "mimetype": "text/x-python",
   "name": "python",
   "nbconvert_exporter": "python",
   "pygments_lexer": "ipython3",
   "version": "3.12.2"
  }
 },
 "nbformat": 4,
 "nbformat_minor": 2
}
