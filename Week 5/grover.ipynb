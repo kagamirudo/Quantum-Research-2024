{
 "cells": [
  {
   "cell_type": "code",
   "execution_count": 9,
   "metadata": {},
   "outputs": [],
   "source": [
    "from qiskit import *\n",
    "import numpy as np\n",
    "import matplotlib.pyplot as plt\n",
    "from qiskit_aer import Aer\n",
    "from qiskit.visualization import plot_histogram"
   ]
  },
  {
   "cell_type": "code",
   "execution_count": 10,
   "metadata": {},
   "outputs": [
    {
     "data": {
      "image/png": "[encoded data removed]",
      "text/plain": [
       "<Figure size 1374.44x367.889 with 1 Axes>"
      ]
     },
     "execution_count": 10,
     "metadata": {},
     "output_type": "execute_result"
    }
   ],
   "source": [
    "qc = QuantumCircuit(3, 2)\n",
    "qc.h(range(2))\n",
    "qc.x(2)\n",
    "qc.h(2)\n",
    "qc.barrier(range(3))\n",
    "qc.x(range(2))\n",
    "qc.ccx(0, 1, 2)\n",
    "qc.x(range(2))\n",
    "qc.barrier(range(3))\n",
    "qc.h(range(2))\n",
    "qc.x(range(2))\n",
    "qc.cz(0, 1)\n",
    "qc.x(range(2))\n",
    "qc.h(range(2))\n",
    "qc.barrier(range(3))\n",
    "qc.measure(0, 0)\n",
    "qc.measure(1, 1)\n",
    "qc.draw(output=\"mpl\", filename=\"grover.png\")\n"
   ]
  },
  {
   "cell_type": "code",
   "execution_count": 11,
   "metadata": {},
   "outputs": [],
   "source": [
    "backend_sim = Aer.get_backend(\"qasm_simulator\")\n",
    "job_sim = backend_sim.run(qc, shots=2048)\n",
    "counts = job_sim.result().get_counts()\n",
    "total_counts = sum(counts.values())\n",
    "probs = {key: value / total_counts for key, value in counts.items()}\n",
    "fig = plot_histogram(probs, title=\"Quantum\")\n",
    "fig.savefig(\"grover_quan_chart\")"
   ]
  },
  {
   "cell_type": "code",
   "execution_count": 12,
   "metadata": {},
   "outputs": [],
   "source": [
    "H = 1 / np.sqrt(2) * np.array([[1, 1], [1, -1]])\n",
    "I = np.array([[1, 0], [0, 1]])\n",
    "X = np.array([[0, 1], [1, 0]])\n",
    "CCX = np.array(\n",
    "    [\n",
    "        [1, 0, 0, 0, 0, 0, 0, 0],\n",
    "        [0, 1, 0, 0, 0, 0, 0, 0],\n",
    "        [0, 0, 1, 0, 0, 0, 0, 0],\n",
    "        [0, 0, 0, 1, 0, 0, 0, 0],\n",
    "        [0, 0, 0, 0, 1, 0, 0, 0],\n",
    "        [0, 0, 0, 0, 0, 1, 0, 0],\n",
    "        [0, 0, 0, 0, 0, 0, 0, 1],\n",
    "        [0, 0, 0, 0, 0, 0, 1, 0],\n",
    "    ]\n",
    ")\n",
    "CZ = np.array([[1, 0, 0, 0], [0, 1, 0, 0], [0, 0, 1, 0], [0, 0, 0, -1]])\n",
    "v = np.array([1, 0, 0, 0, 0, 0, 0, 0]).reshape(8, 1)"
   ]
  },
  {
   "cell_type": "code",
   "execution_count": 13,
   "metadata": {},
   "outputs": [
    {
     "name": "stdout",
     "output_type": "stream",
     "text": [
      "[[ 0.5 -0.5  0.5 -0.5]\n",
      " [ 0.5  0.5  0.5  0.5]\n",
      " [ 0.5 -0.5 -0.5  0.5]\n",
      " [ 0.5  0.5 -0.5 -0.5]]\n",
      "(8, 8)\n"
     ]
    }
   ],
   "source": [
    "# Gate 1:\n",
    "Q3 = np.dot(X, H)\n",
    "H23 = np.kron(H, Q3)\n",
    "print(H23)\n",
    "G1 = np.kron(H, H23)\n",
    "print(G1.shape)"
   ]
  },
  {
   "cell_type": "code",
   "execution_count": 14,
   "metadata": {},
   "outputs": [
    {
     "name": "stdout",
     "output_type": "stream",
     "text": [
      "[[0.35355339]\n",
      " [0.35355339]\n",
      " [0.35355339]\n",
      " [0.35355339]\n",
      " [0.35355339]\n",
      " [0.35355339]\n",
      " [0.35355339]\n",
      " [0.35355339]]\n"
     ]
    }
   ],
   "source": [
    "v1 = np.dot(G1, v)\n",
    "print(v1)"
   ]
  },
  {
   "cell_type": "code",
   "execution_count": 15,
   "metadata": {},
   "outputs": [
    {
     "name": "stdout",
     "output_type": "stream",
     "text": [
      "[[1 0 0 0 0 0 0 0]\n",
      " [0 1 0 0 0 0 0 0]\n",
      " [0 0 1 0 0 0 0 0]\n",
      " [0 0 0 1 0 0 0 0]\n",
      " [0 0 0 0 0 1 0 0]\n",
      " [0 0 0 0 1 0 0 0]\n",
      " [0 0 0 0 0 0 1 0]\n",
      " [0 0 0 0 0 0 0 1]]\n"
     ]
    }
   ],
   "source": [
    "# Gate 2:\n",
    "Q12 = np.kron(I, X)\n",
    "Q123 = np.kron(Q12, I)\n",
    "G2 = np.dot(Q123, CCX)\n",
    "G2 = np.dot(G2, Q123)\n",
    "print(G2)"
   ]
  },
  {
   "cell_type": "code",
   "execution_count": 16,
   "metadata": {},
   "outputs": [
    {
     "name": "stdout",
     "output_type": "stream",
     "text": [
      "[[0.35355339]\n",
      " [0.35355339]\n",
      " [0.35355339]\n",
      " [0.35355339]\n",
      " [0.35355339]\n",
      " [0.35355339]\n",
      " [0.35355339]\n",
      " [0.35355339]]\n"
     ]
    }
   ],
   "source": [
    "v2 = np.dot(G2, v1)\n",
    "print(v2)"
   ]
  },
  {
   "cell_type": "code",
   "execution_count": 17,
   "metadata": {},
   "outputs": [],
   "source": [
    "# Gate 3:\n",
    "doubleH = np.kron(H, np.kron(H, I))\n",
    "doubleX = np.kron(X, np.kron(X, I))\n",
    "Q123 = np.dot(doubleH, doubleX)\n",
    "G3 = np.dot(Q123, np.kron(CZ, I))\n",
    "G3 = np.dot(G3, Q123)"
   ]
  },
  {
   "cell_type": "code",
   "execution_count": 18,
   "metadata": {},
   "outputs": [
    {
     "name": "stdout",
     "output_type": "stream",
     "text": [
      "[[ 0.35355339]\n",
      " [ 0.35355339]\n",
      " [-0.35355339]\n",
      " [-0.35355339]\n",
      " [-0.35355339]\n",
      " [-0.35355339]\n",
      " [ 0.35355339]\n",
      " [ 0.35355339]]\n"
     ]
    }
   ],
   "source": [
    "v3 = np.dot(G3, v2)\n",
    "print(v3)"
   ]
  },
  {
   "cell_type": "code",
   "execution_count": 19,
   "metadata": {},
   "outputs": [
    {
     "name": "stdout",
     "output_type": "stream",
     "text": [
      "0.3535533905932738\n"
     ]
    }
   ],
   "source": [
    "print(1 / 4 * np.sqrt(2))"
   ]
  }
 ],
 "metadata": {
  "kernelspec": {
   "display_name": "base",
   "language": "python",
   "name": "python3"
  },
  "language_info": {
   "codemirror_mode": {
    "name": "ipython",
    "version": 3
   },
   "file_extension": ".py",
   "mimetype": "text/x-python",
   "name": "python",
   "nbconvert_exporter": "python",
   "pygments_lexer": "ipython3",
   "version": "3.12.2"
  }
 },
 "nbformat": 4,
 "nbformat_minor": 2
}
